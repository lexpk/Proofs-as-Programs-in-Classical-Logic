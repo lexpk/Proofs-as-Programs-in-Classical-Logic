{
 "cells": [
  {
   "cell_type": "code",
   "execution_count": 1,
   "metadata": {},
   "outputs": [],
   "source": [
    "from parse import proof, ProofVisitor\n",
    "from proof import Proof"
   ]
  },
  {
   "cell_type": "code",
   "execution_count": 2,
   "metadata": {},
   "outputs": [],
   "source": [
    "tree = proof.parse(\"\"\"\n",
    "1. ! [X0] : p(X0,f(X0)) [input]\n",
    "2. ! [X0,X1] : (p(X0,X1) => q(X0,g(X1))) [input]\n",
    "3. ! [X0,X1] : (q(X0,X1) => r(X0,h(X1))) [input]\n",
    "4. ! [X0] : ? [X1] : r(X0,X1) [input]\n",
    "5. ~! [X0] : ? [X1] : r(X0,X1) [negated conjecture 4]\n",
    "6. ! [X0,X1] : (q(X0,g(X1)) | ~p(X0,X1)) [ennf transformation 2]\n",
    "7. ! [X0,X1] : (r(X0,h(X1)) | ~q(X0,X1)) [ennf transformation 3]\n",
    "8. ? [X0] : ! [X1] : ~r(X0,X1) [ennf transformation 5]\n",
    "9. ? [X0] : ! [X1] : ~r(X0,X1) => ! [X1] : ~r(sK0,X1) [choice axiom]\n",
    "10. ! [X1] : ~r(sK0,X1) [skolemisation 8,9]\n",
    "11. p(X0,f(X0)) [cnf transformation 1]\n",
    "12. q(X0,g(X1)) | ~p(X0,X1) [cnf transformation 6]\n",
    "13. r(X0,h(X1)) | ~q(X0,X1) [cnf transformation 7]\n",
    "14. ~r(sK0,X1) [cnf transformation 10]\n",
    "15. ~q(sK0,X0) [resolution 13,14]\n",
    "16. ~p(sK0,X0) [resolution 15,12]\n",
    "17. $false [resolution 16,11]\n",
    "\"\"\"\n",
    ")"
   ]
  },
  {
   "cell_type": "code",
   "execution_count": 3,
   "metadata": {},
   "outputs": [],
   "source": [
    "pv = ProofVisitor()\n",
    "pv.visit(tree)\n",
    "None"
   ]
  },
  {
   "cell_type": "code",
   "execution_count": 4,
   "metadata": {},
   "outputs": [
    {
     "data": {
      "text/plain": [
       "17"
      ]
     },
     "execution_count": 4,
     "metadata": {},
     "output_type": "execute_result"
    }
   ],
   "source": [
    "head_id = max(pv.result.keys())\n",
    "head_id"
   ]
  },
  {
   "cell_type": "code",
   "execution_count": 5,
   "metadata": {},
   "outputs": [],
   "source": [
    "p = Proof.parse(pv.result)"
   ]
  },
  {
   "cell_type": "code",
   "execution_count": 6,
   "metadata": {},
   "outputs": [],
   "source": [
    "p.compute_mgus()"
   ]
  },
  {
   "cell_type": "code",
   "execution_count": 7,
   "metadata": {},
   "outputs": [
    {
     "data": {
      "text/plain": [
       "FunctionApplication(name='add', arguments=[FunctionApplication(name='mul', arguments=[Variable(name='x'), Constant(name='k')]), Variable(name='y')])"
      ]
     },
     "execution_count": 7,
     "metadata": {},
     "output_type": "execute_result"
    }
   ],
   "source": [
    "from term import FunctionApplication, Variable, Constant\n",
    "f = FunctionApplication('add', arguments=[FunctionApplication('mul', arguments=[Variable('y'), Constant('k')]), Variable('x')])\n",
    "g = FunctionApplication('add', arguments=[Variable('x'), Variable('z')])\n",
    "f.variables()\n",
    "f.substitute({\n",
    "    Variable('x') : Variable('y'),\n",
    "    Variable('y') : Variable('x')\n",
    "})"
   ]
  },
  {
   "cell_type": "code",
   "execution_count": 8,
   "metadata": {},
   "outputs": [
    {
     "name": "stdout",
     "output_type": "stream",
     "text": [
      "add(mul(y,k),x)\n"
     ]
    }
   ],
   "source": [
    "print(str(f))"
   ]
  },
  {
   "cell_type": "code",
   "execution_count": 9,
   "metadata": {},
   "outputs": [
    {
     "data": {
      "text/plain": [
       "[{Variable(name='x'): Variable(name='z')},\n",
       " {Variable(name='x'): FunctionApplication(name='mul', arguments=[Variable(name='y'), Constant(name='k')])}]"
      ]
     },
     "execution_count": 9,
     "metadata": {},
     "output_type": "execute_result"
    }
   ],
   "source": [
    "f.mgu(g)"
   ]
  },
  {
   "cell_type": "code",
   "execution_count": 10,
   "metadata": {},
   "outputs": [
    {
     "data": {
      "text/plain": [
       "'Resolution'"
      ]
     },
     "execution_count": 10,
     "metadata": {},
     "output_type": "execute_result"
    }
   ],
   "source": [
    "from proof import Resolution\n",
    "Resolution.__name__"
   ]
  },
  {
   "cell_type": "code",
   "execution_count": 11,
   "metadata": {},
   "outputs": [
    {
     "name": "stdout",
     "output_type": "stream",
     "text": [
      "1. False [Resolution 2 15]{'X0 -> f(sK0)'}{'X0 -> sK0'}\n",
      "2. ~(p(sK0,X0)) [Resolution 3 12]{'X0 -> g(X1)'}{'X0 -> sK0'}\n",
      "3. ~(q(sK0,X0)) [Resolution 4 7]{'X0 -> sK0'}{'X1 -> h(X1)'}\n",
      "4. (r(X0,h(X1))) | (~(q(X0,X1))) [CnfTransformation 5]\n",
      "5. ! [X0,X1]: (r(X0,h(X1))) | (~(q(X0,X1))) [EnnfTransformation 6]\n",
      "6. ! [X0,X1]: (q(X0,X1)) => (r(X0,h(X1))) [Input]\n",
      "7. ~(r(sK0,X1)) [CnfTransformation 8]\n",
      "8. ! [X1]: ~(r(sK0,X1)) [Skoemisation 9 11]\n",
      "9. ! [X0]: ! [X1]: ~(r(X0,X1)) [EnnfTransformation 10]\n",
      "10. ~(! [X0]: ! [X1]: r(X0,X1)) [NegatedConjecture]\n",
      "11. (! [X0]: ! [X1]: ~(r(X0,X1))) => (! [X1]: ~(r(sK0,X1))) [ChoiceAxiom]\n",
      "12. (q(X0,g(X1))) | (~(p(X0,X1))) [CnfTransformation 13]\n",
      "13. ! [X0,X1]: (q(X0,g(X1))) | (~(p(X0,X1))) [EnnfTransformation 14]\n",
      "14. ! [X0,X1]: (p(X0,X1)) => (q(X0,g(X1))) [Input]\n",
      "15. p(X0,f(X0)) [CnfTransformation 16]\n",
      "16. ! [X0]: p(X0,f(X0)) [Input]\n",
      "\n"
     ]
    }
   ],
   "source": [
    "print(p)"
   ]
  },
  {
   "cell_type": "code",
   "execution_count": 15,
   "metadata": {},
   "outputs": [
    {
     "name": "stdout",
     "output_type": "stream",
     "text": [
      "1. False [Resolution 2 15]{'X110 -> f(sK0)'}{'X01 -> sK0'}\n",
      "2. ~(p(sK0,X110)) [Resolution 3 12]{'X1000 -> g(X110)'}{'X010 -> sK0'}\n",
      "3. ~(q(sK0,X1000)) [Resolution 4 7]{'X0000 -> sK0'}{'X1100 -> h(X1000)'}\n",
      "4. (r(X0000,h(X1000))) | (~(q(X0000,X1000))) [CnfTransformation 5]\n",
      "5. ! [X0,X1]: (r(X0,h(X1))) | (~(q(X0,X1))) [EnnfTransformation 6]\n",
      "6. ! [X0,X1]: (q(X0,X1)) => (r(X0,h(X1))) [Input]\n",
      "7. ~(r(sK0,X1100)) [CnfTransformation 8]\n",
      "8. ! [X1]: ~(r(sK0,X1)) [Skoemisation 9 11]\n",
      "9. ! [X0]: ! [X1]: ~(r(X0,X1)) [EnnfTransformation 10]\n",
      "10. ~(! [X0]: ! [X1]: r(X0,X1)) [NegatedConjecture]\n",
      "11. (! [X0]: ! [X1]: ~(r(X0,X1))) => (! [X1]: ~(r(sK0,X1))) [ChoiceAxiom]\n",
      "12. (q(X010,g(X110))) | (~(p(X010,X110))) [CnfTransformation 13]\n",
      "13. ! [X0,X1]: (q(X0,g(X1))) | (~(p(X0,X1))) [EnnfTransformation 14]\n",
      "14. ! [X0,X1]: (p(X0,X1)) => (q(X0,g(X1))) [Input]\n",
      "15. p(X01,f(X01)) [CnfTransformation 16]\n",
      "16. ! [X0]: p(X0,f(X0)) [Input]\n",
      "\n"
     ]
    }
   ],
   "source": [
    "p = p.make_unique_variables()\n",
    "print(p)"
   ]
  },
  {
   "cell_type": "code",
   "execution_count": 16,
   "metadata": {},
   "outputs": [
    {
     "name": "stdout",
     "output_type": "stream",
     "text": [
      "1. False [Resolution 2 15]{'X110 -> f(sK0)'}{'X01 -> sK0'}\n",
      "2. ~(p(sK0,f(sK0))) [Resolution 3 12]{'X1000 -> g(X110)'}{'X010 -> sK0'}\n",
      "3. ~(q(sK0,g(f(sK0)))) [Resolution 4 7]{'X0000 -> sK0'}{'X1100 -> h(X1000)'}\n",
      "4. (r(sK0,h(g(f(sK0))))) | (~(q(sK0,g(f(sK0))))) [CnfTransformation 5]\n",
      "5. ! [X0,X1]: (r(X0,h(X1))) | (~(q(X0,X1))) [EnnfTransformation 6]\n",
      "6. ! [X0,X1]: (q(X0,X1)) => (r(X0,h(X1))) [Input]\n",
      "7. ~(r(sK0,h(g(f(sK0))))) [CnfTransformation 8]\n",
      "8. ! [X1]: ~(r(sK0,X1)) [Skoemisation 9 11]\n",
      "9. ! [X0]: ! [X1]: ~(r(X0,X1)) [EnnfTransformation 10]\n",
      "10. ~(! [X0]: ! [X1]: r(X0,X1)) [NegatedConjecture]\n",
      "11. (! [X0]: ! [X1]: ~(r(X0,X1))) => (! [X1]: ~(r(sK0,X1))) [ChoiceAxiom]\n",
      "12. (q(sK0,g(f(sK0)))) | (~(p(sK0,f(sK0)))) [CnfTransformation 13]\n",
      "13. ! [X0,X1]: (q(X0,g(X1))) | (~(p(X0,X1))) [EnnfTransformation 14]\n",
      "14. ! [X0,X1]: (p(X0,X1)) => (q(X0,g(X1))) [Input]\n",
      "15. p(sK0,f(sK0)) [CnfTransformation 16]\n",
      "16. ! [X0]: p(X0,f(X0)) [Input]\n",
      "\n"
     ]
    }
   ],
   "source": [
    "print(p.step1())"
   ]
  },
  {
   "cell_type": "code",
   "execution_count": null,
   "metadata": {},
   "outputs": [],
   "source": []
  }
 ],
 "metadata": {
  "interpreter": {
   "hash": "fac72287e45de52d4c0ac8dc9ec3f764f6c47867d99dbd02e7ca15772e1778d9"
  },
  "kernelspec": {
   "display_name": "Python 3.9.5 64-bit ('alex': conda)",
   "language": "python",
   "name": "python3"
  },
  "language_info": {
   "codemirror_mode": {
    "name": "ipython",
    "version": 3
   },
   "file_extension": ".py",
   "mimetype": "text/x-python",
   "name": "python",
   "nbconvert_exporter": "python",
   "pygments_lexer": "ipython3",
   "version": "3.9.5"
  },
  "orig_nbformat": 4
 },
 "nbformat": 4,
 "nbformat_minor": 2
}
